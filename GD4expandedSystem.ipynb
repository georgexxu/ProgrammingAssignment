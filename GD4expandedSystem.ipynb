{
 "cells": [
  {
   "cell_type": "code",
   "execution_count": 1,
   "id": "b8a896a5",
   "metadata": {},
   "outputs": [],
   "source": [
    "import torch \n",
    "import numpy as np \n",
    "import matplotlib.pyplot as plt\n",
    "import torch.optim as optim\n",
    "torch.set_default_tensor_type(torch.DoubleTensor) # this ensure double precision, single precision is not accurate"
   ]
  },
  {
   "cell_type": "markdown",
   "id": "7194e550",
   "metadata": {},
   "source": []
  },
  {
   "cell_type": "code",
   "execution_count": 28,
   "id": "72452a42",
   "metadata": {},
   "outputs": [
    {
     "name": "stdout",
     "output_type": "stream",
     "text": [
      "Plain GD: number of iterations needed for 3 by 3 system\n",
      "eps = 0.1:  340\n",
      "eps = 0.01:  3006\n",
      "eps = 0.001:  25506\n",
      "eps = 0.0001:  209052\n",
      "eps = 1e-05: over 1,000,000\n",
      "eps = 1e-09:  29\n",
      "eps = 0.0:  29\n"
     ]
    }
   ],
   "source": [
    "#GD for 3by3 system \n",
    "print(\"Plain GD: number of iterations needed for 3 by 3 system\")\n",
    "for eps in [0.1,0.01,0.001,1e-4,1e-5,1e-9, 0.]: \n",
    "    A3 = torch.tensor([[1+eps,-1,0],[-1,2+eps,-1],[0,-1,1+eps]])\n",
    "    x = torch.zeros(3)\n",
    "    x = x.view(3,1)\n",
    "    b = torch.tensor([[-1.],[-1.],[2.]]) # must be in kernel is eps = 0\n",
    "    x.data = torch.tensor([[1.0],[2.],[3.0]])\n",
    "    tol = 1e-8 # tolerance for residual norm \n",
    "    residual_norm = torch.norm(torch.matmul(A3,x) -b,2)\n",
    "    iters = 0 \n",
    "    while residual_norm > tol: \n",
    "        gd = torch.matmul(A3,x) - b \n",
    "        x = x - 0.5*gd \n",
    "        residual_norm = torch.norm(gd,2)\n",
    "        iters += 1 \n",
    "        if iters > 1000000: \n",
    "            break\n",
    "        assert torch.isnan(residual_norm)!=True, \"norm is nan, reset learning rate\" #somehow nan>tol returns false\n",
    "    if iters > 1000000: \n",
    "        print(\"eps = \"+str(eps)+\": over 1,000,000\")\n",
    "    else:\n",
    "        print(\"eps = \"+str(eps)+\": \", iters)"
   ]
  },
  {
   "cell_type": "code",
   "execution_count": 37,
   "id": "e1ed6f80",
   "metadata": {},
   "outputs": [
    {
     "name": "stdout",
     "output_type": "stream",
     "text": [
      "Plain GD: 4by4 system\n",
      "eps = 0.1:  24\n",
      "eps = 0.01:  22\n",
      "eps = 0.001:  22\n",
      "eps = 0.0001:  22\n",
      "eps = 1e-05:  22\n",
      "eps = 1e-09:  22\n",
      "eps = 0.0:  22\n",
      "\n",
      "Scaled GD: 4by4 system\n",
      "eps = 0.1:  14\n",
      "eps = 0.01:  16\n",
      "eps = 0.001:  16\n",
      "eps = 0.0001:  16\n",
      "eps = 1e-05:  16\n",
      "eps = 1e-09:  16\n"
     ]
    }
   ],
   "source": [
    "#GD for 4by4 system, plain GD\n",
    "print(\"Plain GD: 4by4 system\")\n",
    "P = torch.tensor([[1.,0.,0.,1.],[0.,1.,0.,1.],[0.,0.,1.,1.]])\n",
    "for eps in [0.1,0.01,0.001,1e-4,1e-5,1e-9,0.]: \n",
    "    A3 = torch.tensor([[1+eps,-1,0],[-1,2+eps,-1],[0,-1,1+eps]])\n",
    "    A4 = torch.tensor([[1+eps,-1.0,0,eps],[-1,2+eps,-1,eps],[0,-1,1+eps,eps],[eps,eps,eps,3*eps]])\n",
    "    x = torch.zeros(4)\n",
    "    x = x.view(4,1)\n",
    "    b = torch.tensor([[-1.],[-1.],[2.],[0.]]) #\n",
    "    tol = 1e-6 \n",
    "#     residual_norm = torch.norm(torch.matmul(A4,x) -b,2)\n",
    "    residual_norm = torch.norm(A3@(P@x)-P@b,2)\n",
    "    iters = 0 \n",
    "    while residual_norm > tol: \n",
    "        gd = torch.matmul(A4,x) - b \n",
    "        x.data = x.data - 0.5*gd \n",
    "#         residual_norm = torch.norm(torch.matmul(A4,x) - b,2)\n",
    "        residual_norm = torch.norm(A3@(P@x)-P@b,2)\n",
    "        iters += 1 \n",
    "        if iters > 100000: \n",
    "            break\n",
    "    assert torch.isnan(residual_norm)!=True, \"norm is nan, reset learning rate\"\n",
    "    print(\"eps = \"+str(eps)+\": \", iters)\n",
    "#     print(torch.matmul(P,x))\n",
    "print()\n",
    "\n",
    "\n",
    "#GD for 4by4 system, Jacobi preconditioner\n",
    "print(\"Scaled GD: 4by4 system\")\n",
    "P = torch.tensor([[1.,0.,0.,1.],[0.,1.,0.,1.],[0.,0.,1.,1.]])\n",
    "for eps in [0.1,0.01,0.001,1e-4,1e-5,1e-9]: \n",
    "    A3 = torch.tensor([[1+eps,-1,0],[-1,2+eps,-1],[0,-1,1+eps]])\n",
    "    A4 = torch.tensor([[1+eps,-1.0,0,eps],[-1,2+eps,-1,eps],[0,-1,1+eps,eps],[eps,eps,eps,3*eps]])\n",
    "    D = torch.diag(torch.diag(A4))\n",
    "    x = torch.zeros(4)\n",
    "    x = x.view(4,1)\n",
    "    b = torch.tensor([[-1.],[-1.],[2.],[0.]]) #\n",
    "    tol = 1e-6\n",
    "#     residual_norm = torch.norm(torch.matmul(A4,x) -b,2)\n",
    "    residual_norm = torch.norm(A3@(P@x)-P@b,2)\n",
    "    iters = 0 \n",
    "    while residual_norm > tol: \n",
    "        gd = torch.matmul(A4,x) - b \n",
    "        x.data = x.data - 0.7*torch.matmul(torch.linalg.inv(D),gd) # A larger step size is allowed\n",
    "#         residual_norm = torch.norm(torch.matmul(A4,x) - b,2)\n",
    "        residual_norm = torch.norm(A3@(P@x)-P@b,2)\n",
    "        iters += 1 \n",
    "        if iters > 100000: \n",
    "            break\n",
    "    assert torch.isnan(residual_norm)!=True, \"norm is nan, reset learning rate\"\n",
    "    print(\"eps = \"+str(eps)+\": \", iters)\n",
    "#     print(torch.matmul(P,x))\n",
    "    "
   ]
  },
  {
   "cell_type": "code",
   "execution_count": null,
   "id": "8f02f394",
   "metadata": {},
   "outputs": [],
   "source": []
  }
 ],
 "metadata": {
  "kernelspec": {
   "display_name": "Python 3 (ipykernel)",
   "language": "python",
   "name": "python3"
  },
  "language_info": {
   "codemirror_mode": {
    "name": "ipython",
    "version": 3
   },
   "file_extension": ".py",
   "mimetype": "text/x-python",
   "name": "python",
   "nbconvert_exporter": "python",
   "pygments_lexer": "ipython3",
   "version": "3.9.6"
  }
 },
 "nbformat": 4,
 "nbformat_minor": 5
}
